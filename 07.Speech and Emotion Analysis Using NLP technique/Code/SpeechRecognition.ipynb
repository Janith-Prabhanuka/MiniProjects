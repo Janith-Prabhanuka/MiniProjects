{
 "cells": [
  {
   "cell_type": "code",
   "execution_count": 1,
   "metadata": {},
   "outputs": [],
   "source": [
    "import os\n",
    "import librosa\n",
    "import IPython.display as ipd\n",
    "import matplotlib.pyplot as plt\n",
    "import numpy as np\n",
    "from scipy.io import wavfile"
   ]
  },
  {
   "cell_type": "code",
   "execution_count": 2,
   "metadata": {},
   "outputs": [
    {
     "name": "stdout",
     "output_type": "stream",
     "text": [
      "16000\n"
     ]
    }
   ],
   "source": [
    "trainDir = 'train/'\n",
    "samples, sample_rate = librosa.load(trainDir+'bed/00176480_nohash_0.wav', sr = 16000)\n",
    "ipd.Audio(samples, rate=sample_rate)\n",
    "print(sample_rate)"
   ]
  },
  {
   "cell_type": "code",
   "execution_count": 3,
   "metadata": {},
   "outputs": [
    {
     "data": {
      "text/html": [
       "\n",
       "                <audio  controls=\"controls\" >\n",
       "                    <source src=\"data:audio/wav;base64,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\" type=\"audio/wav\" />\n",
       "                    Your browser does not support the audio element.\n",
       "                </audio>\n",
       "              "
      ],
      "text/plain": [
       "<IPython.lib.display.Audio object>"
      ]
     },
     "execution_count": 3,
     "metadata": {},
     "output_type": "execute_result"
    }
   ],
   "source": [
    "samples = librosa.resample(samples, sample_rate, 8000)\n",
    "ipd.Audio(samples, rate=8000)"
   ]
  },
  {
   "cell_type": "code",
   "execution_count": 4,
   "metadata": {},
   "outputs": [],
   "source": [
    "labels=os.listdir(trainDir)"
   ]
  },
  {
   "cell_type": "code",
   "execution_count": 5,
   "metadata": {},
   "outputs": [],
   "source": [
    "no_of_recordings=[]\n",
    "for label in labels:\n",
    "    waves = [f for f in os.listdir(trainDir + '/'+ label) if f.endswith('.wav')]\n",
    "    no_of_recordings.append(len(waves))"
   ]
  },
  {
   "cell_type": "code",
   "execution_count": 6,
   "metadata": {},
   "outputs": [],
   "source": [
    "labels=[\"bed\", \"bird\", \"cat\", \"dog\", \"down\", \"eight\", \"five\", \"four\"]"
   ]
  },
  {
   "cell_type": "code",
   "execution_count": 7,
   "metadata": {},
   "outputs": [
    {
     "data": {
      "text/plain": [
       "(array([2.0000e+00, 6.0000e+00, 4.2000e+01, 2.6000e+01, 9.0000e+01,\n",
       "        1.5600e+02, 2.3300e+02, 1.9800e+02, 3.4800e+02, 1.3522e+04]),\n",
       " array([0.384 , 0.4456, 0.5072, 0.5688, 0.6304, 0.692 , 0.7536, 0.8152,\n",
       "        0.8768, 0.9384, 1.    ]),\n",
       " <a list of 10 Patch objects>)"
      ]
     },
     "execution_count": 7,
     "metadata": {},
     "output_type": "execute_result"
    },
    {
     "data": {
      "image/png": "[encoded data removed]",
      "text/plain": [
       "<Figure size 432x288 with 1 Axes>"
      ]
     },
     "metadata": {
      "needs_background": "light"
     },
     "output_type": "display_data"
    }
   ],
   "source": [
    "duration_of_recordings=[]\n",
    "for label in labels:\n",
    "    waves = [f for f in os.listdir(trainDir + '/'+ label) if f.endswith('.wav')]\n",
    "    for wav in waves:\n",
    "        sample_rate, samples = wavfile.read(trainDir + '/' + label + '/' + wav)\n",
    "        duration_of_recordings.append(float(len(samples)/sample_rate))\n",
    "    \n",
    "plt.hist(np.array(duration_of_recordings))"
   ]
  },
  {
   "cell_type": "code",
   "execution_count": 8,
   "metadata": {},
   "outputs": [
    {
     "name": "stdout",
     "output_type": "stream",
     "text": [
      "bed\n",
      "bird\n",
      "cat\n",
      "dog\n",
      "down\n",
      "eight\n",
      "five\n",
      "four\n"
     ]
    }
   ],
   "source": [
    "trainDir = 'train/'\n",
    "all_wave = []\n",
    "all_label = []\n",
    "for label in labels:\n",
    "    print(label)\n",
    "    waves = [f for f in os.listdir(trainDir + '/'+ label) if f.endswith('.wav')]\n",
    "    for wav in waves:\n",
    "        samples, sample_rate = librosa.load(trainDir + '/' + label + '/' + wav, sr = 16000)\n",
    "        samples = librosa.resample(samples, sample_rate, 8000)\n",
    "        if(len(samples)== 8000) : \n",
    "            all_wave.append(samples)\n",
    "            all_label.append(label)"
   ]
  },
  {
   "cell_type": "code",
   "execution_count": 66,
   "metadata": {},
   "outputs": [
    {
     "name": "stdout",
     "output_type": "stream",
     "text": [
      "['bed', 'bird', 'cat', 'dog', 'down', 'eight', 'five', 'four']\n"
     ]
    }
   ],
   "source": [
    "from sklearn.preprocessing import LabelEncoder\n",
    "le = LabelEncoder()\n",
    "y=le.fit_transform(all_label)\n",
    "classes= list(le.classes_)\n",
    "print(classes)"
   ]
  },
  {
   "cell_type": "code",
   "execution_count": 42,
   "metadata": {},
   "outputs": [],
   "source": [
    "from keras.utils import np_utils\n",
    "y=np_utils.to_categorical(y, num_classes=len(labels))"
   ]
  },
  {
   "cell_type": "code",
   "execution_count": 43,
   "metadata": {},
   "outputs": [],
   "source": [
    "all_wave = np.array(all_wave).reshape(-1,8000,1)\n"
   ]
  },
  {
   "cell_type": "code",
   "execution_count": 44,
   "metadata": {},
   "outputs": [],
   "source": [
    "\n",
    "from sklearn.model_selection import train_test_split\n",
    "x_tr, x_val, y_tr, y_val = train_test_split(np.array(all_wave),np.array(y),stratify=y,test_size = 0.2,random_state=777,shuffle=True)"
   ]
  },
  {
   "cell_type": "code",
   "execution_count": 45,
   "metadata": {},
   "outputs": [
    {
     "name": "stdout",
     "output_type": "stream",
     "text": [
      "Model: \"functional_1\"\n",
      "_________________________________________________________________\n",
      "Layer (type)                 Output Shape              Param #   \n",
      "=================================================================\n",
      "input_1 (InputLayer)         [(None, 8000, 1)]         0         \n",
      "_________________________________________________________________\n",
      "conv1d (Conv1D)              (None, 7988, 8)           112       \n",
      "_________________________________________________________________\n",
      "max_pooling1d (MaxPooling1D) (None, 2662, 8)           0         \n",
      "_________________________________________________________________\n",
      "dropout (Dropout)            (None, 2662, 8)           0         \n",
      "_________________________________________________________________\n",
      "conv1d_1 (Conv1D)            (None, 2652, 16)          1424      \n",
      "_________________________________________________________________\n",
      "max_pooling1d_1 (MaxPooling1 (None, 884, 16)           0         \n",
      "_________________________________________________________________\n",
      "dropout_1 (Dropout)          (None, 884, 16)           0         \n",
      "_________________________________________________________________\n",
      "conv1d_2 (Conv1D)            (None, 876, 32)           4640      \n",
      "_________________________________________________________________\n",
      "max_pooling1d_2 (MaxPooling1 (None, 292, 32)           0         \n",
      "_________________________________________________________________\n",
      "dropout_2 (Dropout)          (None, 292, 32)           0         \n",
      "_________________________________________________________________\n",
      "conv1d_3 (Conv1D)            (None, 286, 64)           14400     \n",
      "_________________________________________________________________\n",
      "max_pooling1d_3 (MaxPooling1 (None, 95, 64)            0         \n",
      "_________________________________________________________________\n",
      "dropout_3 (Dropout)          (None, 95, 64)            0         \n",
      "_________________________________________________________________\n",
      "flatten (Flatten)            (None, 6080)              0         \n",
      "_________________________________________________________________\n",
      "dense (Dense)                (None, 256)               1556736   \n",
      "_________________________________________________________________\n",
      "dropout_4 (Dropout)          (None, 256)               0         \n",
      "_________________________________________________________________\n",
      "dense_1 (Dense)              (None, 128)               32896     \n",
      "_________________________________________________________________\n",
      "dropout_5 (Dropout)          (None, 128)               0         \n",
      "_________________________________________________________________\n",
      "dense_2 (Dense)              (None, 8)                 1032      \n",
      "=================================================================\n",
      "Total params: 1,611,240\n",
      "Trainable params: 1,611,240\n",
      "Non-trainable params: 0\n",
      "_________________________________________________________________\n"
     ]
    }
   ],
   "source": [
    "from keras.layers import Dense, Dropout, Flatten, Conv1D, Input, MaxPooling1D\n",
    "from keras.models import Model\n",
    "from keras.callbacks import EarlyStopping, ModelCheckpoint\n",
    "from keras import backend as K\n",
    "K.clear_session()\n",
    "\n",
    "inputs = Input(shape=(8000,1))\n",
    "\n",
    "#First Conv1D layer\n",
    "conv = Conv1D(8,13, padding='valid', activation='relu', strides=1)(inputs)\n",
    "conv = MaxPooling1D(3)(conv)\n",
    "conv = Dropout(0.3)(conv)\n",
    "\n",
    "#Second Conv1D layer\n",
    "conv = Conv1D(16, 11, padding='valid', activation='relu', strides=1)(conv)\n",
    "conv = MaxPooling1D(3)(conv)\n",
    "conv = Dropout(0.3)(conv)\n",
    "\n",
    "#Third Conv1D layer\n",
    "conv = Conv1D(32, 9, padding='valid', activation='relu', strides=1)(conv)\n",
    "conv = MaxPooling1D(3)(conv)\n",
    "conv = Dropout(0.3)(conv)\n",
    "\n",
    "#Fourth Conv1D layer\n",
    "conv = Conv1D(64, 7, padding='valid', activation='relu', strides=1)(conv)\n",
    "conv = MaxPooling1D(3)(conv)\n",
    "conv = Dropout(0.3)(conv)\n",
    "\n",
    "#Flatten layer\n",
    "conv = Flatten()(conv)\n",
    "\n",
    "#Dense Layer 1\n",
    "conv = Dense(256, activation='relu')(conv)\n",
    "conv = Dropout(0.3)(conv)\n",
    "\n",
    "#Dense Layer 2\n",
    "conv = Dense(128, activation='relu')(conv)\n",
    "conv = Dropout(0.3)(conv)\n",
    "\n",
    "outputs = Dense(len(labels), activation='softmax')(conv)\n",
    "\n",
    "model = Model(inputs, outputs)\n",
    "model.summary()"
   ]
  },
  {
   "cell_type": "code",
   "execution_count": 46,
   "metadata": {},
   "outputs": [],
   "source": [
    "model.compile(loss='categorical_crossentropy',optimizer='adam',metrics=['accuracy'])\n"
   ]
  },
  {
   "cell_type": "code",
   "execution_count": 47,
   "metadata": {},
   "outputs": [
    {
     "name": "stdout",
     "output_type": "stream",
     "text": [
      "(10448, 8000, 1) (2613, 8000, 1) (10448, 8) (2613, 8)\n"
     ]
    }
   ],
   "source": [
    "es = EarlyStopping(monitor='val_loss', mode='min', verbose=1, patience=10, min_delta=0.0001) \n",
    "mc = ModelCheckpoint('voiceRecModel.hdf5', monitor='val_acc', verbose=1, save_best_only=True, mode='max')\n",
    "print(x_tr.shape, x_val.shape, y_tr.shape, y_val.shape)"
   ]
  },
  {
   "cell_type": "code",
   "execution_count": 48,
   "metadata": {},
   "outputs": [
    {
     "name": "stdout",
     "output_type": "stream",
     "text": [
      "Epoch 1/100\n",
      "327/327 [==============================] - ETA: 0s - loss: 1.8418 - accuracy: 0.2798WARNING:tensorflow:Can save best model only with val_acc available, skipping.\n",
      "327/327 [==============================] - 81s 249ms/step - loss: 1.8418 - accuracy: 0.2798 - val_loss: 1.5767 - val_accuracy: 0.3980\n",
      "Epoch 2/100\n",
      "327/327 [==============================] - ETA: 0s - loss: 1.5005 - accuracy: 0.4314WARNING:tensorflow:Can save best model only with val_acc available, skipping.\n",
      "327/327 [==============================] - 80s 245ms/step - loss: 1.5005 - accuracy: 0.4314 - val_loss: 1.3955 - val_accuracy: 0.4895\n",
      "Epoch 3/100\n",
      "327/327 [==============================] - ETA: 0s - loss: 1.2266 - accuracy: 0.5492WARNING:tensorflow:Can save best model only with val_acc available, skipping.\n",
      "327/327 [==============================] - 80s 245ms/step - loss: 1.2266 - accuracy: 0.5492 - val_loss: 0.9479 - val_accuracy: 0.6778\n",
      "Epoch 4/100\n",
      "327/327 [==============================] - ETA: 0s - loss: 0.9542 - accuracy: 0.6667WARNING:tensorflow:Can save best model only with val_acc available, skipping.\n",
      "327/327 [==============================] - 82s 252ms/step - loss: 0.9542 - accuracy: 0.6667 - val_loss: 1.0126 - val_accuracy: 0.6640\n",
      "Epoch 5/100\n",
      "327/327 [==============================] - ETA: 0s - loss: 0.7959 - accuracy: 0.7228WARNING:tensorflow:Can save best model only with val_acc available, skipping.\n",
      "327/327 [==============================] - 81s 249ms/step - loss: 0.7959 - accuracy: 0.7228 - val_loss: 0.7123 - val_accuracy: 0.7608\n",
      "Epoch 6/100\n",
      "327/327 [==============================] - ETA: 0s - loss: 0.7009 - accuracy: 0.7638WARNING:tensorflow:Can save best model only with val_acc available, skipping.\n",
      "327/327 [==============================] - 82s 249ms/step - loss: 0.7009 - accuracy: 0.7638 - val_loss: 0.5698 - val_accuracy: 0.8098\n",
      "Epoch 7/100\n",
      "327/327 [==============================] - ETA: 0s - loss: 0.5825 - accuracy: 0.8047WARNING:tensorflow:Can save best model only with val_acc available, skipping.\n",
      "327/327 [==============================] - 81s 247ms/step - loss: 0.5825 - accuracy: 0.8047 - val_loss: 0.6855 - val_accuracy: 0.7799\n",
      "Epoch 8/100\n",
      "327/327 [==============================] - ETA: 0s - loss: 0.5369 - accuracy: 0.8184WARNING:tensorflow:Can save best model only with val_acc available, skipping.\n",
      "327/327 [==============================] - 81s 247ms/step - loss: 0.5369 - accuracy: 0.8184 - val_loss: 0.5265 - val_accuracy: 0.8316\n",
      "Epoch 9/100\n",
      "327/327 [==============================] - ETA: 0s - loss: 0.4982 - accuracy: 0.8329WARNING:tensorflow:Can save best model only with val_acc available, skipping.\n",
      "327/327 [==============================] - 80s 244ms/step - loss: 0.4982 - accuracy: 0.8329 - val_loss: 0.5012 - val_accuracy: 0.8370\n",
      "Epoch 10/100\n",
      "327/327 [==============================] - ETA: 0s - loss: 0.4442 - accuracy: 0.8495WARNING:tensorflow:Can save best model only with val_acc available, skipping.\n",
      "327/327 [==============================] - 80s 245ms/step - loss: 0.4442 - accuracy: 0.8495 - val_loss: 0.4256 - val_accuracy: 0.8584\n",
      "Epoch 11/100\n",
      "327/327 [==============================] - ETA: 0s - loss: 0.4126 - accuracy: 0.8635WARNING:tensorflow:Can save best model only with val_acc available, skipping.\n",
      "327/327 [==============================] - 80s 245ms/step - loss: 0.4126 - accuracy: 0.8635 - val_loss: 0.5258 - val_accuracy: 0.8289\n",
      "Epoch 12/100\n",
      "327/327 [==============================] - ETA: 0s - loss: 0.3921 - accuracy: 0.8616WARNING:tensorflow:Can save best model only with val_acc available, skipping.\n",
      "327/327 [==============================] - 80s 245ms/step - loss: 0.3921 - accuracy: 0.8616 - val_loss: 0.4794 - val_accuracy: 0.8550\n",
      "Epoch 13/100\n",
      "327/327 [==============================] - ETA: 0s - loss: 0.3744 - accuracy: 0.8756WARNING:tensorflow:Can save best model only with val_acc available, skipping.\n",
      "327/327 [==============================] - 81s 248ms/step - loss: 0.3744 - accuracy: 0.8756 - val_loss: 0.3578 - val_accuracy: 0.8798\n",
      "Epoch 14/100\n",
      "327/327 [==============================] - ETA: 0s - loss: 0.3555 - accuracy: 0.8800WARNING:tensorflow:Can save best model only with val_acc available, skipping.\n",
      "327/327 [==============================] - 80s 245ms/step - loss: 0.3555 - accuracy: 0.8800 - val_loss: 0.3669 - val_accuracy: 0.8821\n",
      "Epoch 15/100\n",
      "327/327 [==============================] - ETA: 0s - loss: 0.3280 - accuracy: 0.8881WARNING:tensorflow:Can save best model only with val_acc available, skipping.\n",
      "327/327 [==============================] - 80s 245ms/step - loss: 0.3280 - accuracy: 0.8881 - val_loss: 0.4199 - val_accuracy: 0.8741\n",
      "Epoch 16/100\n",
      "327/327 [==============================] - ETA: 0s - loss: 0.3145 - accuracy: 0.8921WARNING:tensorflow:Can save best model only with val_acc available, skipping.\n",
      "327/327 [==============================] - 84s 256ms/step - loss: 0.3145 - accuracy: 0.8921 - val_loss: 0.3910 - val_accuracy: 0.8848\n",
      "Epoch 17/100\n",
      "327/327 [==============================] - ETA: 0s - loss: 0.3118 - accuracy: 0.8940WARNING:tensorflow:Can save best model only with val_acc available, skipping.\n",
      "327/327 [==============================] - 81s 248ms/step - loss: 0.3118 - accuracy: 0.8940 - val_loss: 0.4206 - val_accuracy: 0.8657\n",
      "Epoch 18/100\n",
      "327/327 [==============================] - ETA: 0s - loss: 0.2807 - accuracy: 0.9032WARNING:tensorflow:Can save best model only with val_acc available, skipping.\n",
      "327/327 [==============================] - 81s 248ms/step - loss: 0.2807 - accuracy: 0.9032 - val_loss: 0.3482 - val_accuracy: 0.8940\n",
      "Epoch 19/100\n",
      "327/327 [==============================] - ETA: 0s - loss: 0.2915 - accuracy: 0.9036WARNING:tensorflow:Can save best model only with val_acc available, skipping.\n",
      "327/327 [==============================] - 81s 247ms/step - loss: 0.2915 - accuracy: 0.9036 - val_loss: 0.3359 - val_accuracy: 0.8936\n",
      "Epoch 20/100\n",
      "327/327 [==============================] - ETA: 0s - loss: 0.2739 - accuracy: 0.9077WARNING:tensorflow:Can save best model only with val_acc available, skipping.\n",
      "327/327 [==============================] - 81s 249ms/step - loss: 0.2739 - accuracy: 0.9077 - val_loss: 0.3765 - val_accuracy: 0.8879\n",
      "Epoch 21/100\n",
      "327/327 [==============================] - ETA: 0s - loss: 0.2505 - accuracy: 0.9180WARNING:tensorflow:Can save best model only with val_acc available, skipping.\n",
      "327/327 [==============================] - 81s 249ms/step - loss: 0.2505 - accuracy: 0.9180 - val_loss: 0.3375 - val_accuracy: 0.8997\n",
      "Epoch 22/100\n",
      "327/327 [==============================] - ETA: 0s - loss: 0.2460 - accuracy: 0.9175WARNING:tensorflow:Can save best model only with val_acc available, skipping.\n",
      "327/327 [==============================] - 81s 248ms/step - loss: 0.2460 - accuracy: 0.9175 - val_loss: 0.3552 - val_accuracy: 0.8940\n",
      "Epoch 23/100\n",
      "327/327 [==============================] - ETA: 0s - loss: 0.2576 - accuracy: 0.9120WARNING:tensorflow:Can save best model only with val_acc available, skipping.\n",
      "327/327 [==============================] - 82s 251ms/step - loss: 0.2576 - accuracy: 0.9120 - val_loss: 0.3163 - val_accuracy: 0.8993\n",
      "Epoch 24/100\n",
      "327/327 [==============================] - ETA: 0s - loss: 0.2353 - accuracy: 0.9213WARNING:tensorflow:Can save best model only with val_acc available, skipping.\n",
      "327/327 [==============================] - 81s 248ms/step - loss: 0.2353 - accuracy: 0.9213 - val_loss: 0.3740 - val_accuracy: 0.8879\n",
      "Epoch 25/100\n",
      "327/327 [==============================] - ETA: 0s - loss: 0.2375 - accuracy: 0.9190WARNING:tensorflow:Can save best model only with val_acc available, skipping.\n",
      "327/327 [==============================] - 81s 249ms/step - loss: 0.2375 - accuracy: 0.9190 - val_loss: 0.3979 - val_accuracy: 0.8810\n",
      "Epoch 26/100\n",
      "327/327 [==============================] - ETA: 0s - loss: 0.2117 - accuracy: 0.9285WARNING:tensorflow:Can save best model only with val_acc available, skipping.\n",
      "327/327 [==============================] - 82s 252ms/step - loss: 0.2117 - accuracy: 0.9285 - val_loss: 0.3526 - val_accuracy: 0.8909\n",
      "Epoch 27/100\n",
      "327/327 [==============================] - ETA: 0s - loss: 0.2039 - accuracy: 0.9302WARNING:tensorflow:Can save best model only with val_acc available, skipping.\n"
     ]
    },
    {
     "name": "stdout",
     "output_type": "stream",
     "text": [
      "327/327 [==============================] - 82s 250ms/step - loss: 0.2039 - accuracy: 0.9302 - val_loss: 0.3794 - val_accuracy: 0.8879\n",
      "Epoch 28/100\n",
      "327/327 [==============================] - ETA: 0s - loss: 0.2028 - accuracy: 0.9334WARNING:tensorflow:Can save best model only with val_acc available, skipping.\n",
      "327/327 [==============================] - 81s 247ms/step - loss: 0.2028 - accuracy: 0.9334 - val_loss: 0.3591 - val_accuracy: 0.8928\n",
      "Epoch 29/100\n",
      "327/327 [==============================] - ETA: 0s - loss: 0.2015 - accuracy: 0.9294WARNING:tensorflow:Can save best model only with val_acc available, skipping.\n",
      "327/327 [==============================] - 83s 255ms/step - loss: 0.2015 - accuracy: 0.9294 - val_loss: 0.3673 - val_accuracy: 0.8978\n",
      "Epoch 30/100\n",
      "327/327 [==============================] - ETA: 0s - loss: 0.1980 - accuracy: 0.9305WARNING:tensorflow:Can save best model only with val_acc available, skipping.\n",
      "327/327 [==============================] - 84s 257ms/step - loss: 0.1980 - accuracy: 0.9305 - val_loss: 0.4304 - val_accuracy: 0.8806\n",
      "Epoch 31/100\n",
      "327/327 [==============================] - ETA: 0s - loss: 0.1890 - accuracy: 0.9366WARNING:tensorflow:Can save best model only with val_acc available, skipping.\n",
      "327/327 [==============================] - 80s 246ms/step - loss: 0.1890 - accuracy: 0.9366 - val_loss: 0.3204 - val_accuracy: 0.9028\n",
      "Epoch 32/100\n",
      "327/327 [==============================] - ETA: 0s - loss: 0.1726 - accuracy: 0.9408WARNING:tensorflow:Can save best model only with val_acc available, skipping.\n",
      "327/327 [==============================] - 83s 255ms/step - loss: 0.1726 - accuracy: 0.9408 - val_loss: 0.3295 - val_accuracy: 0.8982\n",
      "Epoch 33/100\n",
      "327/327 [==============================] - ETA: 0s - loss: 0.1925 - accuracy: 0.9359WARNING:tensorflow:Can save best model only with val_acc available, skipping.\n",
      "327/327 [==============================] - 90s 275ms/step - loss: 0.1925 - accuracy: 0.9359 - val_loss: 0.3274 - val_accuracy: 0.9028\n",
      "Epoch 00033: early stopping\n"
     ]
    }
   ],
   "source": [
    "history=model.fit(x_tr, y_tr ,epochs=100, callbacks=[es,mc], batch_size=32, validation_data=(x_val,y_val))\n"
   ]
  },
  {
   "cell_type": "code",
   "execution_count": 50,
   "metadata": {},
   "outputs": [],
   "source": [
    "model.save(\"voiceRecModel.hdf5\")"
   ]
  },
  {
   "cell_type": "markdown",
   "metadata": {},
   "source": [
    "# Model Test"
   ]
  },
  {
   "cell_type": "code",
   "execution_count": 2,
   "metadata": {},
   "outputs": [
    {
     "ename": "ModuleNotFoundError",
     "evalue": "No module named 'tensorflow.python'",
     "output_type": "error",
     "traceback": [
      "\u001b[1;31m---------------------------------------------------------------------------\u001b[0m",
      "\u001b[1;31mModuleNotFoundError\u001b[0m                       Traceback (most recent call last)",
      "Cell \u001b[1;32mIn[2], line 1\u001b[0m\n\u001b[1;32m----> 1\u001b[0m \u001b[38;5;28;01mfrom\u001b[39;00m \u001b[38;5;21;01mkeras\u001b[39;00m\u001b[38;5;21;01m.\u001b[39;00m\u001b[38;5;21;01mmodels\u001b[39;00m \u001b[38;5;28;01mimport\u001b[39;00m load_model\n\u001b[0;32m      3\u001b[0m model \u001b[38;5;241m=\u001b[39m load_model(\u001b[38;5;124m\"\u001b[39m\u001b[38;5;124mvoiceRecModel.hdf5\u001b[39m\u001b[38;5;124m\"\u001b[39m)\n",
      "File \u001b[1;32m~\\AppData\\Local\\Packages\\PythonSoftwareFoundation.Python.3.11_qbz5n2kfra8p0\\LocalCache\\local-packages\\Python311\\site-packages\\keras\\__init__.py:4\u001b[0m\n\u001b[0;32m      1\u001b[0m \u001b[38;5;28;01mimport\u001b[39;00m \u001b[38;5;21;01mos\u001b[39;00m\n\u001b[0;32m      3\u001b[0m \u001b[38;5;66;03m# DO NOT EDIT. Generated by api_gen.sh\u001b[39;00m\n\u001b[1;32m----> 4\u001b[0m \u001b[38;5;28;01mfrom\u001b[39;00m \u001b[38;5;21;01mkeras\u001b[39;00m\u001b[38;5;21;01m.\u001b[39;00m\u001b[38;5;21;01mapi\u001b[39;00m \u001b[38;5;28;01mimport\u001b[39;00m DTypePolicy\n\u001b[0;32m      5\u001b[0m \u001b[38;5;28;01mfrom\u001b[39;00m \u001b[38;5;21;01mkeras\u001b[39;00m\u001b[38;5;21;01m.\u001b[39;00m\u001b[38;5;21;01mapi\u001b[39;00m \u001b[38;5;28;01mimport\u001b[39;00m FloatDTypePolicy\n\u001b[0;32m      6\u001b[0m \u001b[38;5;28;01mfrom\u001b[39;00m \u001b[38;5;21;01mkeras\u001b[39;00m\u001b[38;5;21;01m.\u001b[39;00m\u001b[38;5;21;01mapi\u001b[39;00m \u001b[38;5;28;01mimport\u001b[39;00m Function\n",
      "File \u001b[1;32m~\\AppData\\Local\\Packages\\PythonSoftwareFoundation.Python.3.11_qbz5n2kfra8p0\\LocalCache\\local-packages\\Python311\\site-packages\\keras\\api\\__init__.py:8\u001b[0m\n\u001b[0;32m      1\u001b[0m \u001b[38;5;124;03m\"\"\"DO NOT EDIT.\u001b[39;00m\n\u001b[0;32m      2\u001b[0m \n\u001b[0;32m      3\u001b[0m \u001b[38;5;124;03mThis file was autogenerated. Do not edit it by hand,\u001b[39;00m\n\u001b[0;32m      4\u001b[0m \u001b[38;5;124;03msince your modifications would be overwritten.\u001b[39;00m\n\u001b[0;32m      5\u001b[0m \u001b[38;5;124;03m\"\"\"\u001b[39;00m\n\u001b[1;32m----> 8\u001b[0m \u001b[38;5;28;01mfrom\u001b[39;00m \u001b[38;5;21;01mkeras\u001b[39;00m\u001b[38;5;21;01m.\u001b[39;00m\u001b[38;5;21;01mapi\u001b[39;00m \u001b[38;5;28;01mimport\u001b[39;00m activations\n\u001b[0;32m      9\u001b[0m \u001b[38;5;28;01mfrom\u001b[39;00m \u001b[38;5;21;01mkeras\u001b[39;00m\u001b[38;5;21;01m.\u001b[39;00m\u001b[38;5;21;01mapi\u001b[39;00m \u001b[38;5;28;01mimport\u001b[39;00m applications\n\u001b[0;32m     10\u001b[0m \u001b[38;5;28;01mfrom\u001b[39;00m \u001b[38;5;21;01mkeras\u001b[39;00m\u001b[38;5;21;01m.\u001b[39;00m\u001b[38;5;21;01mapi\u001b[39;00m \u001b[38;5;28;01mimport\u001b[39;00m backend\n",
      "File \u001b[1;32m~\\AppData\\Local\\Packages\\PythonSoftwareFoundation.Python.3.11_qbz5n2kfra8p0\\LocalCache\\local-packages\\Python311\\site-packages\\keras\\api\\activations\\__init__.py:7\u001b[0m\n\u001b[0;32m      1\u001b[0m \u001b[38;5;124;03m\"\"\"DO NOT EDIT.\u001b[39;00m\n\u001b[0;32m      2\u001b[0m \n\u001b[0;32m      3\u001b[0m \u001b[38;5;124;03mThis file was autogenerated. Do not edit it by hand,\u001b[39;00m\n\u001b[0;32m      4\u001b[0m \u001b[38;5;124;03msince your modifications would be overwritten.\u001b[39;00m\n\u001b[0;32m      5\u001b[0m \u001b[38;5;124;03m\"\"\"\u001b[39;00m\n\u001b[1;32m----> 7\u001b[0m \u001b[38;5;28;01mfrom\u001b[39;00m \u001b[38;5;21;01mkeras\u001b[39;00m\u001b[38;5;21;01m.\u001b[39;00m\u001b[38;5;21;01msrc\u001b[39;00m\u001b[38;5;21;01m.\u001b[39;00m\u001b[38;5;21;01mactivations\u001b[39;00m \u001b[38;5;28;01mimport\u001b[39;00m deserialize\n\u001b[0;32m      8\u001b[0m \u001b[38;5;28;01mfrom\u001b[39;00m \u001b[38;5;21;01mkeras\u001b[39;00m\u001b[38;5;21;01m.\u001b[39;00m\u001b[38;5;21;01msrc\u001b[39;00m\u001b[38;5;21;01m.\u001b[39;00m\u001b[38;5;21;01mactivations\u001b[39;00m \u001b[38;5;28;01mimport\u001b[39;00m get\n\u001b[0;32m      9\u001b[0m \u001b[38;5;28;01mfrom\u001b[39;00m \u001b[38;5;21;01mkeras\u001b[39;00m\u001b[38;5;21;01m.\u001b[39;00m\u001b[38;5;21;01msrc\u001b[39;00m\u001b[38;5;21;01m.\u001b[39;00m\u001b[38;5;21;01mactivations\u001b[39;00m \u001b[38;5;28;01mimport\u001b[39;00m serialize\n",
      "File \u001b[1;32m~\\AppData\\Local\\Packages\\PythonSoftwareFoundation.Python.3.11_qbz5n2kfra8p0\\LocalCache\\local-packages\\Python311\\site-packages\\keras\\src\\__init__.py:1\u001b[0m\n\u001b[1;32m----> 1\u001b[0m \u001b[38;5;28;01mfrom\u001b[39;00m \u001b[38;5;21;01mkeras\u001b[39;00m\u001b[38;5;21;01m.\u001b[39;00m\u001b[38;5;21;01msrc\u001b[39;00m \u001b[38;5;28;01mimport\u001b[39;00m activations\n\u001b[0;32m      2\u001b[0m \u001b[38;5;28;01mfrom\u001b[39;00m \u001b[38;5;21;01mkeras\u001b[39;00m\u001b[38;5;21;01m.\u001b[39;00m\u001b[38;5;21;01msrc\u001b[39;00m \u001b[38;5;28;01mimport\u001b[39;00m applications\n\u001b[0;32m      3\u001b[0m \u001b[38;5;28;01mfrom\u001b[39;00m \u001b[38;5;21;01mkeras\u001b[39;00m\u001b[38;5;21;01m.\u001b[39;00m\u001b[38;5;21;01msrc\u001b[39;00m \u001b[38;5;28;01mimport\u001b[39;00m backend\n",
      "File \u001b[1;32m~\\AppData\\Local\\Packages\\PythonSoftwareFoundation.Python.3.11_qbz5n2kfra8p0\\LocalCache\\local-packages\\Python311\\site-packages\\keras\\src\\activations\\__init__.py:3\u001b[0m\n\u001b[0;32m      1\u001b[0m \u001b[38;5;28;01mimport\u001b[39;00m \u001b[38;5;21;01mtypes\u001b[39;00m\n\u001b[1;32m----> 3\u001b[0m \u001b[38;5;28;01mfrom\u001b[39;00m \u001b[38;5;21;01mkeras\u001b[39;00m\u001b[38;5;21;01m.\u001b[39;00m\u001b[38;5;21;01msrc\u001b[39;00m\u001b[38;5;21;01m.\u001b[39;00m\u001b[38;5;21;01mactivations\u001b[39;00m\u001b[38;5;21;01m.\u001b[39;00m\u001b[38;5;21;01mactivations\u001b[39;00m \u001b[38;5;28;01mimport\u001b[39;00m elu\n\u001b[0;32m      4\u001b[0m \u001b[38;5;28;01mfrom\u001b[39;00m \u001b[38;5;21;01mkeras\u001b[39;00m\u001b[38;5;21;01m.\u001b[39;00m\u001b[38;5;21;01msrc\u001b[39;00m\u001b[38;5;21;01m.\u001b[39;00m\u001b[38;5;21;01mactivations\u001b[39;00m\u001b[38;5;21;01m.\u001b[39;00m\u001b[38;5;21;01mactivations\u001b[39;00m \u001b[38;5;28;01mimport\u001b[39;00m exponential\n\u001b[0;32m      5\u001b[0m \u001b[38;5;28;01mfrom\u001b[39;00m \u001b[38;5;21;01mkeras\u001b[39;00m\u001b[38;5;21;01m.\u001b[39;00m\u001b[38;5;21;01msrc\u001b[39;00m\u001b[38;5;21;01m.\u001b[39;00m\u001b[38;5;21;01mactivations\u001b[39;00m\u001b[38;5;21;01m.\u001b[39;00m\u001b[38;5;21;01mactivations\u001b[39;00m \u001b[38;5;28;01mimport\u001b[39;00m gelu\n",
      "File \u001b[1;32m~\\AppData\\Local\\Packages\\PythonSoftwareFoundation.Python.3.11_qbz5n2kfra8p0\\LocalCache\\local-packages\\Python311\\site-packages\\keras\\src\\activations\\activations.py:1\u001b[0m\n\u001b[1;32m----> 1\u001b[0m \u001b[38;5;28;01mfrom\u001b[39;00m \u001b[38;5;21;01mkeras\u001b[39;00m\u001b[38;5;21;01m.\u001b[39;00m\u001b[38;5;21;01msrc\u001b[39;00m \u001b[38;5;28;01mimport\u001b[39;00m backend\n\u001b[0;32m      2\u001b[0m \u001b[38;5;28;01mfrom\u001b[39;00m \u001b[38;5;21;01mkeras\u001b[39;00m\u001b[38;5;21;01m.\u001b[39;00m\u001b[38;5;21;01msrc\u001b[39;00m \u001b[38;5;28;01mimport\u001b[39;00m ops\n\u001b[0;32m      3\u001b[0m \u001b[38;5;28;01mfrom\u001b[39;00m \u001b[38;5;21;01mkeras\u001b[39;00m\u001b[38;5;21;01m.\u001b[39;00m\u001b[38;5;21;01msrc\u001b[39;00m\u001b[38;5;21;01m.\u001b[39;00m\u001b[38;5;21;01mapi_export\u001b[39;00m \u001b[38;5;28;01mimport\u001b[39;00m keras_export\n",
      "File \u001b[1;32m~\\AppData\\Local\\Packages\\PythonSoftwareFoundation.Python.3.11_qbz5n2kfra8p0\\LocalCache\\local-packages\\Python311\\site-packages\\keras\\src\\backend\\__init__.py:9\u001b[0m\n\u001b[0;32m      3\u001b[0m \u001b[38;5;28;01mif\u001b[39;00m backend() \u001b[38;5;241m==\u001b[39m \u001b[38;5;124m\"\u001b[39m\u001b[38;5;124mtorch\u001b[39m\u001b[38;5;124m\"\u001b[39m:\n\u001b[0;32m      4\u001b[0m     \u001b[38;5;66;03m# When using the torch backend,\u001b[39;00m\n\u001b[0;32m      5\u001b[0m     \u001b[38;5;66;03m# torch needs to be imported first, otherwise it will segfault\u001b[39;00m\n\u001b[0;32m      6\u001b[0m     \u001b[38;5;66;03m# upon import.\u001b[39;00m\n\u001b[0;32m      7\u001b[0m     \u001b[38;5;28;01mimport\u001b[39;00m \u001b[38;5;21;01mtorch\u001b[39;00m\n\u001b[1;32m----> 9\u001b[0m \u001b[38;5;28;01mfrom\u001b[39;00m \u001b[38;5;21;01mkeras\u001b[39;00m\u001b[38;5;21;01m.\u001b[39;00m\u001b[38;5;21;01msrc\u001b[39;00m\u001b[38;5;21;01m.\u001b[39;00m\u001b[38;5;21;01mbackend\u001b[39;00m\u001b[38;5;21;01m.\u001b[39;00m\u001b[38;5;21;01mcommon\u001b[39;00m\u001b[38;5;21;01m.\u001b[39;00m\u001b[38;5;21;01mdtypes\u001b[39;00m \u001b[38;5;28;01mimport\u001b[39;00m result_type\n\u001b[0;32m     10\u001b[0m \u001b[38;5;28;01mfrom\u001b[39;00m \u001b[38;5;21;01mkeras\u001b[39;00m\u001b[38;5;21;01m.\u001b[39;00m\u001b[38;5;21;01msrc\u001b[39;00m\u001b[38;5;21;01m.\u001b[39;00m\u001b[38;5;21;01mbackend\u001b[39;00m\u001b[38;5;21;01m.\u001b[39;00m\u001b[38;5;21;01mcommon\u001b[39;00m\u001b[38;5;21;01m.\u001b[39;00m\u001b[38;5;21;01mkeras_tensor\u001b[39;00m \u001b[38;5;28;01mimport\u001b[39;00m KerasTensor\n\u001b[0;32m     11\u001b[0m \u001b[38;5;28;01mfrom\u001b[39;00m \u001b[38;5;21;01mkeras\u001b[39;00m\u001b[38;5;21;01m.\u001b[39;00m\u001b[38;5;21;01msrc\u001b[39;00m\u001b[38;5;21;01m.\u001b[39;00m\u001b[38;5;21;01mbackend\u001b[39;00m\u001b[38;5;21;01m.\u001b[39;00m\u001b[38;5;21;01mcommon\u001b[39;00m\u001b[38;5;21;01m.\u001b[39;00m\u001b[38;5;21;01mkeras_tensor\u001b[39;00m \u001b[38;5;28;01mimport\u001b[39;00m any_symbolic_tensors\n",
      "File \u001b[1;32m~\\AppData\\Local\\Packages\\PythonSoftwareFoundation.Python.3.11_qbz5n2kfra8p0\\LocalCache\\local-packages\\Python311\\site-packages\\keras\\src\\backend\\common\\__init__.py:2\u001b[0m\n\u001b[0;32m      1\u001b[0m \u001b[38;5;28;01mfrom\u001b[39;00m \u001b[38;5;21;01mkeras\u001b[39;00m\u001b[38;5;21;01m.\u001b[39;00m\u001b[38;5;21;01msrc\u001b[39;00m\u001b[38;5;21;01m.\u001b[39;00m\u001b[38;5;21;01mbackend\u001b[39;00m\u001b[38;5;21;01m.\u001b[39;00m\u001b[38;5;21;01mcommon\u001b[39;00m \u001b[38;5;28;01mimport\u001b[39;00m backend_utils\n\u001b[1;32m----> 2\u001b[0m \u001b[38;5;28;01mfrom\u001b[39;00m \u001b[38;5;21;01mkeras\u001b[39;00m\u001b[38;5;21;01m.\u001b[39;00m\u001b[38;5;21;01msrc\u001b[39;00m\u001b[38;5;21;01m.\u001b[39;00m\u001b[38;5;21;01mbackend\u001b[39;00m\u001b[38;5;21;01m.\u001b[39;00m\u001b[38;5;21;01mcommon\u001b[39;00m\u001b[38;5;21;01m.\u001b[39;00m\u001b[38;5;21;01mdtypes\u001b[39;00m \u001b[38;5;28;01mimport\u001b[39;00m result_type\n\u001b[0;32m      3\u001b[0m \u001b[38;5;28;01mfrom\u001b[39;00m \u001b[38;5;21;01mkeras\u001b[39;00m\u001b[38;5;21;01m.\u001b[39;00m\u001b[38;5;21;01msrc\u001b[39;00m\u001b[38;5;21;01m.\u001b[39;00m\u001b[38;5;21;01mbackend\u001b[39;00m\u001b[38;5;21;01m.\u001b[39;00m\u001b[38;5;21;01mcommon\u001b[39;00m\u001b[38;5;21;01m.\u001b[39;00m\u001b[38;5;21;01mvariables\u001b[39;00m \u001b[38;5;28;01mimport\u001b[39;00m AutocastScope\n\u001b[0;32m      4\u001b[0m \u001b[38;5;28;01mfrom\u001b[39;00m \u001b[38;5;21;01mkeras\u001b[39;00m\u001b[38;5;21;01m.\u001b[39;00m\u001b[38;5;21;01msrc\u001b[39;00m\u001b[38;5;21;01m.\u001b[39;00m\u001b[38;5;21;01mbackend\u001b[39;00m\u001b[38;5;21;01m.\u001b[39;00m\u001b[38;5;21;01mcommon\u001b[39;00m\u001b[38;5;21;01m.\u001b[39;00m\u001b[38;5;21;01mvariables\u001b[39;00m \u001b[38;5;28;01mimport\u001b[39;00m KerasVariable\n",
      "File \u001b[1;32m~\\AppData\\Local\\Packages\\PythonSoftwareFoundation.Python.3.11_qbz5n2kfra8p0\\LocalCache\\local-packages\\Python311\\site-packages\\keras\\src\\backend\\common\\dtypes.py:5\u001b[0m\n\u001b[0;32m      3\u001b[0m \u001b[38;5;28;01mfrom\u001b[39;00m \u001b[38;5;21;01mkeras\u001b[39;00m\u001b[38;5;21;01m.\u001b[39;00m\u001b[38;5;21;01msrc\u001b[39;00m\u001b[38;5;21;01m.\u001b[39;00m\u001b[38;5;21;01mapi_export\u001b[39;00m \u001b[38;5;28;01mimport\u001b[39;00m keras_export\n\u001b[0;32m      4\u001b[0m \u001b[38;5;28;01mfrom\u001b[39;00m \u001b[38;5;21;01mkeras\u001b[39;00m\u001b[38;5;21;01m.\u001b[39;00m\u001b[38;5;21;01msrc\u001b[39;00m\u001b[38;5;21;01m.\u001b[39;00m\u001b[38;5;21;01mbackend\u001b[39;00m \u001b[38;5;28;01mimport\u001b[39;00m config\n\u001b[1;32m----> 5\u001b[0m \u001b[38;5;28;01mfrom\u001b[39;00m \u001b[38;5;21;01mkeras\u001b[39;00m\u001b[38;5;21;01m.\u001b[39;00m\u001b[38;5;21;01msrc\u001b[39;00m\u001b[38;5;21;01m.\u001b[39;00m\u001b[38;5;21;01mbackend\u001b[39;00m\u001b[38;5;21;01m.\u001b[39;00m\u001b[38;5;21;01mcommon\u001b[39;00m\u001b[38;5;21;01m.\u001b[39;00m\u001b[38;5;21;01mvariables\u001b[39;00m \u001b[38;5;28;01mimport\u001b[39;00m standardize_dtype\n\u001b[0;32m      7\u001b[0m BOOL_TYPES \u001b[38;5;241m=\u001b[39m (\u001b[38;5;124m\"\u001b[39m\u001b[38;5;124mbool\u001b[39m\u001b[38;5;124m\"\u001b[39m,)\n\u001b[0;32m      8\u001b[0m INT_TYPES \u001b[38;5;241m=\u001b[39m (\n\u001b[0;32m      9\u001b[0m     \u001b[38;5;124m\"\u001b[39m\u001b[38;5;124muint8\u001b[39m\u001b[38;5;124m\"\u001b[39m,\n\u001b[0;32m     10\u001b[0m     \u001b[38;5;124m\"\u001b[39m\u001b[38;5;124muint16\u001b[39m\u001b[38;5;124m\"\u001b[39m,\n\u001b[1;32m   (...)\u001b[0m\n\u001b[0;32m     16\u001b[0m     \u001b[38;5;124m\"\u001b[39m\u001b[38;5;124mint64\u001b[39m\u001b[38;5;124m\"\u001b[39m,\n\u001b[0;32m     17\u001b[0m )\n",
      "File \u001b[1;32m~\\AppData\\Local\\Packages\\PythonSoftwareFoundation.Python.3.11_qbz5n2kfra8p0\\LocalCache\\local-packages\\Python311\\site-packages\\keras\\src\\backend\\common\\variables.py:11\u001b[0m\n\u001b[0;32m      9\u001b[0m \u001b[38;5;28;01mfrom\u001b[39;00m \u001b[38;5;21;01mkeras\u001b[39;00m\u001b[38;5;21;01m.\u001b[39;00m\u001b[38;5;21;01msrc\u001b[39;00m\u001b[38;5;21;01m.\u001b[39;00m\u001b[38;5;21;01mbackend\u001b[39;00m\u001b[38;5;21;01m.\u001b[39;00m\u001b[38;5;21;01mcommon\u001b[39;00m\u001b[38;5;21;01m.\u001b[39;00m\u001b[38;5;21;01mstateless_scope\u001b[39;00m \u001b[38;5;28;01mimport\u001b[39;00m get_stateless_scope\n\u001b[0;32m     10\u001b[0m \u001b[38;5;28;01mfrom\u001b[39;00m \u001b[38;5;21;01mkeras\u001b[39;00m\u001b[38;5;21;01m.\u001b[39;00m\u001b[38;5;21;01msrc\u001b[39;00m\u001b[38;5;21;01m.\u001b[39;00m\u001b[38;5;21;01mbackend\u001b[39;00m\u001b[38;5;21;01m.\u001b[39;00m\u001b[38;5;21;01mcommon\u001b[39;00m\u001b[38;5;21;01m.\u001b[39;00m\u001b[38;5;21;01mstateless_scope\u001b[39;00m \u001b[38;5;28;01mimport\u001b[39;00m in_stateless_scope\n\u001b[1;32m---> 11\u001b[0m \u001b[38;5;28;01mfrom\u001b[39;00m \u001b[38;5;21;01mkeras\u001b[39;00m\u001b[38;5;21;01m.\u001b[39;00m\u001b[38;5;21;01msrc\u001b[39;00m\u001b[38;5;21;01m.\u001b[39;00m\u001b[38;5;21;01mutils\u001b[39;00m\u001b[38;5;21;01m.\u001b[39;00m\u001b[38;5;21;01mmodule_utils\u001b[39;00m \u001b[38;5;28;01mimport\u001b[39;00m tensorflow \u001b[38;5;28;01mas\u001b[39;00m tf\n\u001b[0;32m     12\u001b[0m \u001b[38;5;28;01mfrom\u001b[39;00m \u001b[38;5;21;01mkeras\u001b[39;00m\u001b[38;5;21;01m.\u001b[39;00m\u001b[38;5;21;01msrc\u001b[39;00m\u001b[38;5;21;01m.\u001b[39;00m\u001b[38;5;21;01mutils\u001b[39;00m\u001b[38;5;21;01m.\u001b[39;00m\u001b[38;5;21;01mnaming\u001b[39;00m \u001b[38;5;28;01mimport\u001b[39;00m auto_name\n\u001b[0;32m     15\u001b[0m \u001b[38;5;28;01mclass\u001b[39;00m \u001b[38;5;21;01mKerasVariable\u001b[39;00m:\n",
      "File \u001b[1;32m~\\AppData\\Local\\Packages\\PythonSoftwareFoundation.Python.3.11_qbz5n2kfra8p0\\LocalCache\\local-packages\\Python311\\site-packages\\keras\\src\\utils\\__init__.py:1\u001b[0m\n\u001b[1;32m----> 1\u001b[0m \u001b[38;5;28;01mfrom\u001b[39;00m \u001b[38;5;21;01mkeras\u001b[39;00m\u001b[38;5;21;01m.\u001b[39;00m\u001b[38;5;21;01msrc\u001b[39;00m\u001b[38;5;21;01m.\u001b[39;00m\u001b[38;5;21;01mutils\u001b[39;00m\u001b[38;5;21;01m.\u001b[39;00m\u001b[38;5;21;01maudio_dataset_utils\u001b[39;00m \u001b[38;5;28;01mimport\u001b[39;00m audio_dataset_from_directory\n\u001b[0;32m      2\u001b[0m \u001b[38;5;28;01mfrom\u001b[39;00m \u001b[38;5;21;01mkeras\u001b[39;00m\u001b[38;5;21;01m.\u001b[39;00m\u001b[38;5;21;01msrc\u001b[39;00m\u001b[38;5;21;01m.\u001b[39;00m\u001b[38;5;21;01mutils\u001b[39;00m\u001b[38;5;21;01m.\u001b[39;00m\u001b[38;5;21;01mdataset_utils\u001b[39;00m \u001b[38;5;28;01mimport\u001b[39;00m split_dataset\n\u001b[0;32m      3\u001b[0m \u001b[38;5;28;01mfrom\u001b[39;00m \u001b[38;5;21;01mkeras\u001b[39;00m\u001b[38;5;21;01m.\u001b[39;00m\u001b[38;5;21;01msrc\u001b[39;00m\u001b[38;5;21;01m.\u001b[39;00m\u001b[38;5;21;01mutils\u001b[39;00m\u001b[38;5;21;01m.\u001b[39;00m\u001b[38;5;21;01mfile_utils\u001b[39;00m \u001b[38;5;28;01mimport\u001b[39;00m get_file\n",
      "File \u001b[1;32m~\\AppData\\Local\\Packages\\PythonSoftwareFoundation.Python.3.11_qbz5n2kfra8p0\\LocalCache\\local-packages\\Python311\\site-packages\\keras\\src\\utils\\audio_dataset_utils.py:4\u001b[0m\n\u001b[0;32m      1\u001b[0m \u001b[38;5;28;01mimport\u001b[39;00m \u001b[38;5;21;01mnumpy\u001b[39;00m \u001b[38;5;28;01mas\u001b[39;00m \u001b[38;5;21;01mnp\u001b[39;00m\n\u001b[0;32m      3\u001b[0m \u001b[38;5;28;01mfrom\u001b[39;00m \u001b[38;5;21;01mkeras\u001b[39;00m\u001b[38;5;21;01m.\u001b[39;00m\u001b[38;5;21;01msrc\u001b[39;00m\u001b[38;5;21;01m.\u001b[39;00m\u001b[38;5;21;01mapi_export\u001b[39;00m \u001b[38;5;28;01mimport\u001b[39;00m keras_export\n\u001b[1;32m----> 4\u001b[0m \u001b[38;5;28;01mfrom\u001b[39;00m \u001b[38;5;21;01mkeras\u001b[39;00m\u001b[38;5;21;01m.\u001b[39;00m\u001b[38;5;21;01msrc\u001b[39;00m\u001b[38;5;21;01m.\u001b[39;00m\u001b[38;5;21;01mutils\u001b[39;00m \u001b[38;5;28;01mimport\u001b[39;00m dataset_utils\n\u001b[0;32m      5\u001b[0m \u001b[38;5;28;01mfrom\u001b[39;00m \u001b[38;5;21;01mkeras\u001b[39;00m\u001b[38;5;21;01m.\u001b[39;00m\u001b[38;5;21;01msrc\u001b[39;00m\u001b[38;5;21;01m.\u001b[39;00m\u001b[38;5;21;01mutils\u001b[39;00m\u001b[38;5;21;01m.\u001b[39;00m\u001b[38;5;21;01mmodule_utils\u001b[39;00m \u001b[38;5;28;01mimport\u001b[39;00m tensorflow \u001b[38;5;28;01mas\u001b[39;00m tf\n\u001b[0;32m      6\u001b[0m \u001b[38;5;28;01mfrom\u001b[39;00m \u001b[38;5;21;01mkeras\u001b[39;00m\u001b[38;5;21;01m.\u001b[39;00m\u001b[38;5;21;01msrc\u001b[39;00m\u001b[38;5;21;01m.\u001b[39;00m\u001b[38;5;21;01mutils\u001b[39;00m\u001b[38;5;21;01m.\u001b[39;00m\u001b[38;5;21;01mmodule_utils\u001b[39;00m \u001b[38;5;28;01mimport\u001b[39;00m tensorflow_io \u001b[38;5;28;01mas\u001b[39;00m tfio\n",
      "File \u001b[1;32m~\\AppData\\Local\\Packages\\PythonSoftwareFoundation.Python.3.11_qbz5n2kfra8p0\\LocalCache\\local-packages\\Python311\\site-packages\\keras\\src\\utils\\dataset_utils.py:9\u001b[0m\n\u001b[0;32m      5\u001b[0m \u001b[38;5;28;01mfrom\u001b[39;00m \u001b[38;5;21;01mmultiprocessing\u001b[39;00m\u001b[38;5;21;01m.\u001b[39;00m\u001b[38;5;21;01mpool\u001b[39;00m \u001b[38;5;28;01mimport\u001b[39;00m ThreadPool\n\u001b[0;32m      7\u001b[0m \u001b[38;5;28;01mimport\u001b[39;00m \u001b[38;5;21;01mnumpy\u001b[39;00m \u001b[38;5;28;01mas\u001b[39;00m \u001b[38;5;21;01mnp\u001b[39;00m\n\u001b[1;32m----> 9\u001b[0m \u001b[38;5;28;01mfrom\u001b[39;00m \u001b[38;5;21;01mkeras\u001b[39;00m\u001b[38;5;21;01m.\u001b[39;00m\u001b[38;5;21;01msrc\u001b[39;00m \u001b[38;5;28;01mimport\u001b[39;00m tree\n\u001b[0;32m     10\u001b[0m \u001b[38;5;28;01mfrom\u001b[39;00m \u001b[38;5;21;01mkeras\u001b[39;00m\u001b[38;5;21;01m.\u001b[39;00m\u001b[38;5;21;01msrc\u001b[39;00m\u001b[38;5;21;01m.\u001b[39;00m\u001b[38;5;21;01mapi_export\u001b[39;00m \u001b[38;5;28;01mimport\u001b[39;00m keras_export\n\u001b[0;32m     11\u001b[0m \u001b[38;5;28;01mfrom\u001b[39;00m \u001b[38;5;21;01mkeras\u001b[39;00m\u001b[38;5;21;01m.\u001b[39;00m\u001b[38;5;21;01msrc\u001b[39;00m\u001b[38;5;21;01m.\u001b[39;00m\u001b[38;5;21;01mutils\u001b[39;00m \u001b[38;5;28;01mimport\u001b[39;00m io_utils\n",
      "File \u001b[1;32m~\\AppData\\Local\\Packages\\PythonSoftwareFoundation.Python.3.11_qbz5n2kfra8p0\\LocalCache\\local-packages\\Python311\\site-packages\\keras\\src\\tree\\__init__.py:1\u001b[0m\n\u001b[1;32m----> 1\u001b[0m \u001b[38;5;28;01mfrom\u001b[39;00m \u001b[38;5;21;01mkeras\u001b[39;00m\u001b[38;5;21;01m.\u001b[39;00m\u001b[38;5;21;01msrc\u001b[39;00m\u001b[38;5;21;01m.\u001b[39;00m\u001b[38;5;21;01mtree\u001b[39;00m\u001b[38;5;21;01m.\u001b[39;00m\u001b[38;5;21;01mtree_api\u001b[39;00m \u001b[38;5;28;01mimport\u001b[39;00m assert_same_structure\n\u001b[0;32m      2\u001b[0m \u001b[38;5;28;01mfrom\u001b[39;00m \u001b[38;5;21;01mkeras\u001b[39;00m\u001b[38;5;21;01m.\u001b[39;00m\u001b[38;5;21;01msrc\u001b[39;00m\u001b[38;5;21;01m.\u001b[39;00m\u001b[38;5;21;01mtree\u001b[39;00m\u001b[38;5;21;01m.\u001b[39;00m\u001b[38;5;21;01mtree_api\u001b[39;00m \u001b[38;5;28;01mimport\u001b[39;00m flatten\n\u001b[0;32m      3\u001b[0m \u001b[38;5;28;01mfrom\u001b[39;00m \u001b[38;5;21;01mkeras\u001b[39;00m\u001b[38;5;21;01m.\u001b[39;00m\u001b[38;5;21;01msrc\u001b[39;00m\u001b[38;5;21;01m.\u001b[39;00m\u001b[38;5;21;01mtree\u001b[39;00m\u001b[38;5;21;01m.\u001b[39;00m\u001b[38;5;21;01mtree_api\u001b[39;00m \u001b[38;5;28;01mimport\u001b[39;00m is_nested\n",
      "File \u001b[1;32m~\\AppData\\Local\\Packages\\PythonSoftwareFoundation.Python.3.11_qbz5n2kfra8p0\\LocalCache\\local-packages\\Python311\\site-packages\\keras\\src\\tree\\tree_api.py:6\u001b[0m\n\u001b[0;32m      3\u001b[0m \u001b[38;5;28;01mfrom\u001b[39;00m \u001b[38;5;21;01mkeras\u001b[39;00m\u001b[38;5;21;01m.\u001b[39;00m\u001b[38;5;21;01msrc\u001b[39;00m\u001b[38;5;21;01m.\u001b[39;00m\u001b[38;5;21;01mutils\u001b[39;00m\u001b[38;5;21;01m.\u001b[39;00m\u001b[38;5;21;01mmodule_utils\u001b[39;00m \u001b[38;5;28;01mimport\u001b[39;00m optree\n\u001b[0;32m      5\u001b[0m \u001b[38;5;28;01mif\u001b[39;00m optree\u001b[38;5;241m.\u001b[39mavailable:\n\u001b[1;32m----> 6\u001b[0m     \u001b[38;5;28;01mfrom\u001b[39;00m \u001b[38;5;21;01mkeras\u001b[39;00m\u001b[38;5;21;01m.\u001b[39;00m\u001b[38;5;21;01msrc\u001b[39;00m\u001b[38;5;21;01m.\u001b[39;00m\u001b[38;5;21;01mtree\u001b[39;00m \u001b[38;5;28;01mimport\u001b[39;00m optree_impl \u001b[38;5;28;01mas\u001b[39;00m tree_impl\n\u001b[0;32m      7\u001b[0m \u001b[38;5;28;01melif\u001b[39;00m dmtree\u001b[38;5;241m.\u001b[39mavailable:\n\u001b[0;32m      8\u001b[0m     \u001b[38;5;28;01mfrom\u001b[39;00m \u001b[38;5;21;01mkeras\u001b[39;00m\u001b[38;5;21;01m.\u001b[39;00m\u001b[38;5;21;01msrc\u001b[39;00m\u001b[38;5;21;01m.\u001b[39;00m\u001b[38;5;21;01mtree\u001b[39;00m \u001b[38;5;28;01mimport\u001b[39;00m dmtree_impl \u001b[38;5;28;01mas\u001b[39;00m tree_impl\n",
      "File \u001b[1;32m~\\AppData\\Local\\Packages\\PythonSoftwareFoundation.Python.3.11_qbz5n2kfra8p0\\LocalCache\\local-packages\\Python311\\site-packages\\keras\\src\\tree\\optree_impl.py:17\u001b[0m\n\u001b[0;32m     15\u001b[0m \u001b[38;5;66;03m# Register backend-specific node classes\u001b[39;00m\n\u001b[0;32m     16\u001b[0m \u001b[38;5;28;01mif\u001b[39;00m backend() \u001b[38;5;241m==\u001b[39m \u001b[38;5;124m\"\u001b[39m\u001b[38;5;124mtensorflow\u001b[39m\u001b[38;5;124m\"\u001b[39m:\n\u001b[1;32m---> 17\u001b[0m     \u001b[38;5;28;01mfrom\u001b[39;00m \u001b[38;5;21;01mtensorflow\u001b[39;00m\u001b[38;5;21;01m.\u001b[39;00m\u001b[38;5;21;01mpython\u001b[39;00m\u001b[38;5;21;01m.\u001b[39;00m\u001b[38;5;21;01mtrackable\u001b[39;00m\u001b[38;5;21;01m.\u001b[39;00m\u001b[38;5;21;01mdata_structures\u001b[39;00m \u001b[38;5;28;01mimport\u001b[39;00m ListWrapper\n\u001b[0;32m     19\u001b[0m     optree\u001b[38;5;241m.\u001b[39mregister_pytree_node(\n\u001b[0;32m     20\u001b[0m         ListWrapper,\n\u001b[0;32m     21\u001b[0m         \u001b[38;5;28;01mlambda\u001b[39;00m x: (x, \u001b[38;5;28;01mNone\u001b[39;00m),\n\u001b[0;32m     22\u001b[0m         \u001b[38;5;28;01mlambda\u001b[39;00m metadata, children: ListWrapper(\u001b[38;5;28mlist\u001b[39m(children)),\n\u001b[0;32m     23\u001b[0m         namespace\u001b[38;5;241m=\u001b[39m\u001b[38;5;124m\"\u001b[39m\u001b[38;5;124mkeras\u001b[39m\u001b[38;5;124m\"\u001b[39m,\n\u001b[0;32m     24\u001b[0m     )\n\u001b[0;32m     27\u001b[0m \u001b[38;5;28;01mdef\u001b[39;00m \u001b[38;5;21mis_nested\u001b[39m(structure):\n",
      "File \u001b[1;32m~\\AppData\\Local\\Packages\\PythonSoftwareFoundation.Python.3.11_qbz5n2kfra8p0\\LocalCache\\local-packages\\Python311\\site-packages\\tensorflow\\__init__.py:38\u001b[0m\n\u001b[0;32m     35\u001b[0m \u001b[38;5;28;01mimport\u001b[39;00m \u001b[38;5;21;01msys\u001b[39;00m \u001b[38;5;28;01mas\u001b[39;00m \u001b[38;5;21;01m_sys\u001b[39;00m\n\u001b[0;32m     37\u001b[0m \u001b[38;5;66;03m# Do not remove this line; See https://github.com/tensorflow/tensorflow/issues/42596\u001b[39;00m\n\u001b[1;32m---> 38\u001b[0m \u001b[38;5;28;01mfrom\u001b[39;00m \u001b[38;5;21;01mtensorflow\u001b[39;00m\u001b[38;5;21;01m.\u001b[39;00m\u001b[38;5;21;01mpython\u001b[39;00m \u001b[38;5;28;01mimport\u001b[39;00m pywrap_tensorflow \u001b[38;5;28;01mas\u001b[39;00m _pywrap_tensorflow  \u001b[38;5;66;03m# pylint: disable=unused-import\u001b[39;00m\n\u001b[0;32m     39\u001b[0m \u001b[38;5;28;01mfrom\u001b[39;00m \u001b[38;5;21;01mtensorflow\u001b[39;00m\u001b[38;5;21;01m.\u001b[39;00m\u001b[38;5;21;01mpython\u001b[39;00m\u001b[38;5;21;01m.\u001b[39;00m\u001b[38;5;21;01mtools\u001b[39;00m \u001b[38;5;28;01mimport\u001b[39;00m module_util \u001b[38;5;28;01mas\u001b[39;00m _module_util\n\u001b[0;32m     40\u001b[0m \u001b[38;5;28;01mfrom\u001b[39;00m \u001b[38;5;21;01mtensorflow\u001b[39;00m\u001b[38;5;21;01m.\u001b[39;00m\u001b[38;5;21;01mpython\u001b[39;00m\u001b[38;5;21;01m.\u001b[39;00m\u001b[38;5;21;01mutil\u001b[39;00m\u001b[38;5;21;01m.\u001b[39;00m\u001b[38;5;21;01mlazy_loader\u001b[39;00m \u001b[38;5;28;01mimport\u001b[39;00m KerasLazyLoader \u001b[38;5;28;01mas\u001b[39;00m _KerasLazyLoader\n",
      "\u001b[1;31mModuleNotFoundError\u001b[0m: No module named 'tensorflow.python'"
     ]
    }
   ],
   "source": [
    "from keras.models import load_model\n",
    "\n",
    "model = load_model(\"voiceRecModel.hdf5\")"
   ]
  },
  {
   "cell_type": "code",
   "execution_count": 1,
   "metadata": {},
   "outputs": [
    {
     "ename": "NameError",
     "evalue": "name 'x_val' is not defined",
     "output_type": "error",
     "traceback": [
      "\u001b[1;31m---------------------------------------------------------------------------\u001b[0m",
      "\u001b[1;31mNameError\u001b[0m                                 Traceback (most recent call last)",
      "Cell \u001b[1;32mIn[1], line 7\u001b[0m\n\u001b[0;32m      4\u001b[0m     \u001b[38;5;28;01mreturn\u001b[39;00m classes[index]\n\u001b[0;32m      6\u001b[0m \u001b[38;5;28;01mimport\u001b[39;00m \u001b[38;5;21;01mrandom\u001b[39;00m\n\u001b[1;32m----> 7\u001b[0m index\u001b[38;5;241m=\u001b[39mrandom\u001b[38;5;241m.\u001b[39mrandint(\u001b[38;5;241m0\u001b[39m,\u001b[38;5;28mlen\u001b[39m(\u001b[43mx_val\u001b[49m)\u001b[38;5;241m-\u001b[39m\u001b[38;5;241m1\u001b[39m)\n\u001b[0;32m      8\u001b[0m samples\u001b[38;5;241m=\u001b[39mx_val[index]\u001b[38;5;241m.\u001b[39mravel()\n\u001b[0;32m      9\u001b[0m \u001b[38;5;28mprint\u001b[39m(\u001b[38;5;124m\"\u001b[39m\u001b[38;5;124mAudio:\u001b[39m\u001b[38;5;124m\"\u001b[39m,classes[np\u001b[38;5;241m.\u001b[39margmax(y_val[index])])\n",
      "\u001b[1;31mNameError\u001b[0m: name 'x_val' is not defined"
     ]
    }
   ],
   "source": [
    "def predict(audio):\n",
    "    prob=model.predict(audio.reshape(1,8000,1))\n",
    "    index=np.argmax(prob[0])\n",
    "    return classes[index]\n",
    "\n",
    "import random\n",
    "index=random.randint(0,len(x_val)-1)\n",
    "samples=x_val[index].ravel()\n",
    "print(\"Audio:\",classes[np.argmax(y_val[index])])\n",
    "ipd.Audio(samples, rate=8000)\n",
    "\n"
   ]
  },
  {
   "cell_type": "code",
   "execution_count": 76,
   "metadata": {},
   "outputs": [
    {
     "name": "stdout",
     "output_type": "stream",
     "text": [
      "Text: five\n"
     ]
    }
   ],
   "source": [
    "print(\"Text:\",predict(samples))"
   ]
  },
  {
   "cell_type": "code",
   "execution_count": null,
   "metadata": {},
   "outputs": [],
   "source": []
  }
 ],
 "metadata": {
  "kernelspec": {
   "display_name": "Python 3",
   "language": "python",
   "name": "python3"
  },
  "language_info": {
   "codemirror_mode": {
    "name": "ipython",
    "version": 3
   },
   "file_extension": ".py",
   "mimetype": "text/x-python",
   "name": "python",
   "nbconvert_exporter": "python",
   "pygments_lexer": "ipython3",
   "version": "3.11.9"
  }
 },
 "nbformat": 4,
 "nbformat_minor": 4
}
